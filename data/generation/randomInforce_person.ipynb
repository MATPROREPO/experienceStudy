{
 "cells": [
  {
   "cell_type": "code",
   "execution_count": 14,
   "metadata": {},
   "outputs": [],
   "source": [
    "import numpy as np\n",
    "import pandas as pd\n",
    "import datetime as datetime"
   ]
  },
  {
   "cell_type": "code",
   "execution_count": 2,
   "metadata": {},
   "outputs": [],
   "source": [
    "np.random.seed(30300101)"
   ]
  },
  {
   "cell_type": "code",
   "execution_count": 3,
   "metadata": {},
   "outputs": [],
   "source": [
    "#Storage of variables used to define the dataset\n",
    "#Start with policy variables\n",
    "\n",
    "#4 products, to be defined later\n",
    "prods = range(4)\n",
    "prods = [x + 1 for x in prods]\n",
    "prodsWt = [0.5,0.25,0.2,0.05]\n",
    "\n",
    "#Evenly distribute business within issue year confines\n",
    "issYrsStart = 2008\n",
    "issYrs = range(10)\n",
    "issYrs = [x + issYrsStart for x in issYrs]\n",
    "issYrsWt = [1/len(issYrs)] * len(issYrs)\n",
    "\n",
    "#Randomly distribute business amongst n states\n",
    "nIssSt = 10\n",
    "issSt = range(50)\n",
    "issSt = [x + 1 for x in issSt]\n",
    "issStWt = [0] * len(issSt)\n",
    "st = np.random.randint(low=0,high=len(issSt)-1,size=nIssSt).tolist()\n",
    "rd = np.random.uniform(0,1,nIssSt).tolist()\n",
    "rd = [x/sum(rd) for x in rd]\n",
    "for i in range(len(st)):\n",
    "    issStWt[st[i]] = issStWt[st[i]] + rd[i]"
   ]
  },
  {
   "cell_type": "code",
   "execution_count": 37,
   "metadata": {},
   "outputs": [],
   "source": [
    "#Next to coverage variables\n",
    "\n",
    "#Future state utilize product mapping table to enable/disable coverage riders at a product level\n",
    "#Start with random probability for now and a simple assignment of base/rider types\n",
    "covCnt = [1,2]\n",
    "covCntWt = [0.9,0.1]\n",
    "\n",
    "#Presume all riders are optioned at issue"
   ]
  },
  {
   "cell_type": "code",
   "execution_count": 5,
   "metadata": {},
   "outputs": [],
   "source": [
    "#Next to person variables\n",
    "\n",
    "#Randomly distribute ages within an issue age band range\n",
    "#Will be used to calculate dates of birth\n",
    "#Currently presume an ALB issue age calculation\n",
    "age = [0,25,35,45,55,65,75,999]\n",
    "ageWt = [0,0.05,0.15,0.25,0.3,0.15,0.1,0]\n",
    "\n",
    "#Two genders within underwriting criteria\n",
    "sex = range(2) \n",
    "sexWt = [0.5,0.5]\n",
    "\n",
    "#Spousal riders\n",
    "#Current code presumes no joint life policies, and that lives on coverages match back to base\n",
    "#Future state may contemplate assigning a different insured on rider records, or joint life policies\n",
    "lives = [0,1,2]\n",
    "livesWt = [0,1,0]\n",
    "\n",
    "#Multiple issues\n",
    "multiplePol = [0,1,2,3,4,5]\n",
    "multiplePolWt = [0,0.8,0.1,0.05,0.025,0.025]"
   ]
  },
  {
   "cell_type": "code",
   "execution_count": 6,
   "metadata": {},
   "outputs": [],
   "source": [
    "#Finally, temporal statistics\n",
    "\n",
    "#Probability of surrender\n",
    "lapseDur = [1,2,3,99]\n",
    "lapseWt = [0.2,0.1,0.05,0.65]\n",
    "ultLapse = 0.05"
   ]
  },
  {
   "cell_type": "code",
   "execution_count": 15,
   "metadata": {},
   "outputs": [],
   "source": [
    "#UDFs\n",
    "def assignLabel(rnd, labelArray,weightArray):\n",
    "    c = 0\n",
    "    for i in range(len(weightArray)):\n",
    "        c = c + weightArray[i]\n",
    "        if c > rnd:\n",
    "            x = labelArray[i]\n",
    "            break\n",
    "    return x\n",
    "\n",
    "def rndDate(rnd,start,end):\n",
    "    fmt = '%Y-%m-%d'\n",
    "    #st = datetime.strptime(start,fmt).timestamp()\n",
    "    #ed = datetime.strptime(end,fmt).timestamp()\n",
    "    st = datetime.datetime.strptime(start,fmt)\n",
    "    ed = datetime.datetime.strptime(end,fmt)\n",
    "    dt = st + rnd * (ed - st)\n",
    "    #dt = datetime.utcfromtimestamp(dt).strftime(fmt)\n",
    "    dt = datetime.datetime.strftime(dt,fmt)\n",
    "    return dt\n",
    "\n",
    "def rndGammaDate(start,shape,scale):\n",
    "    fmt = '%Y-%m-%d'\n",
    "    st = datetime.datetime.strptime(start,fmt)\n",
    "    dt = st + datetime.timedelta(days = np.random.gamma(shape,scale) * 365)\n",
    "    dt = datetime.datetime.strftime(dt,fmt)\n",
    "    return dt"
   ]
  },
  {
   "cell_type": "code",
   "execution_count": 48,
   "metadata": {},
   "outputs": [],
   "source": [
    "#Pattern will be lives -> policies -> coverages -> amounts\n",
    "#Because of the inherent temporal dependency between lives (birth date, death date) and policies (issue date, lapse date)\n",
    "nLives = 50000\n",
    "lifedf = pd.DataFrame(columns=['lifeId','sexId','birthDate','deathDate'])\n",
    "lifecovdf = pd.DataFrame(columns=['coverageId','lifeId'])\n",
    "poldf = pd.DataFrame(columns=['policyId','policyNumber','productId','issueDate','issueState'])\n",
    "covdf = pd.DataFrame(columns=['coverageId','policyId','coverageNo','coverageTypeId','productId','issueDate'])\n",
    "lifepoldf = pd.DataFrame(columns=['policyId','lifeId'])\n",
    "lifeIdx = 0\n",
    "polIdx = 0\n",
    "covIdx = 0\n",
    "\n",
    "while lifeIdx < nLives:\n",
    "    lifeIdx = lifeIdx + 1\n",
    "    \n",
    "    sexId = assignLabel(np.random.uniform(0,1),sex,sexWt)\n",
    "    ageVal = assignLabel(np.random.uniform(0,1),age,ageWt)\n",
    "    \n",
    "    #Given a presumed disitribution of issue ages, and the mechanical linkage with issue date and birth date\n",
    "    #Begin by obtaining a base policy issue date... subsequent issues will register after this date\n",
    "    baseIssueYr = assignLabel(np.random.uniform(0,1),issYrs,issYrsWt)\n",
    "    baseIssueDt = rndDate(np.random.uniform(0,1),str(baseIssueYr)+'-01-01',str(baseIssueYr)+'-12-31')\n",
    "    ageYr = int(str(baseIssueDt)[0:4]) - int(ageVal)\n",
    "    strDt = str(baseIssueDt)[4:10]\n",
    "    if strDt == '-02-29':\n",
    "        strDt = '-03-01'\n",
    "    birthDt = rndDate(np.random.uniform(0,1),str(ageYr) + strDt,str(ageYr + 1) + strDt)\n",
    "    \n",
    "    #Death date occurring after issue rather than distributed from birth date\n",
    "    deathDt = rndGammaDate(baseIssueDt, 1, 1 / 0.025)\n",
    "    lifedf.loc[lifeIdx] = [lifeIdx,sexId,birthDt,deathDt]\n",
    "    \n",
    "    nPols = assignLabel(np.random.uniform(0,1),multiplePol,multiplePolWt)\n",
    "    for i in range(nPols):\n",
    "        polIdx = polIdx + 1\n",
    "        if i == 0:\n",
    "            issueDt = baseIssueDt\n",
    "        else:\n",
    "            #Subsequent issue has to occurr before death date)\n",
    "            issueDt = rndDate(np.random.uniform(0,1),baseIssueDt,min(str(max(issYrs))+'-12-31',deathDt))\n",
    "        polNo = hex(hash(np.random.uniform(0,1)))[0:10]\n",
    "        prodId = assignLabel(np.random.uniform(0,1),prods,prodsWt)\n",
    "        issStId = assignLabel(np.random.uniform(0,1),issSt,issStWt)\n",
    "        poldf.loc[polIdx - 1] = [polIdx,polNo,prodId,issueDt,issStId]\n",
    "        lifepoldf.loc[polIdx - 1] = [polIdx,lifeIdx]\n",
    "        nCovs = assignLabel(np.random.uniform(0,1),covCnt,covCntWt)\n",
    "        termDt = rndGammaDate(issueDt, 1, 1 / 0.1)\n",
    "        if termDt > deathDt: termDt = deathDt\n",
    "        for j in range(nCovs):\n",
    "            covIdx = covIdx + 1\n",
    "            covNo = hex(hash(np.random.uniform(0,1)))[0:10]\n",
    "            covProdId = prodId * 10 + j\n",
    "            covIssueDt = issueDt\n",
    "            if j == 0: \n",
    "                covType = 1\n",
    "            else:\n",
    "                covType = 2\n",
    "            covdf.loc[covIdx - 1] = [covIdx,polIdx,covNo,covType,prodId,issueDt]\n",
    "            lifecovdf.loc[covIdx - 1] = [covIdx,lifeIdx]\n",
    "            \n",
    "poldf.to_csv(r'C:\\Users\\prove\\OneDrive\\Desktop\\poldf.csv')\n",
    "lifepoldf.to_csv(r'C:\\Users\\prove\\OneDrive\\Desktop\\lifepoldf.csv')\n",
    "covdf.to_csv(r'C:\\Users\\prove\\OneDrive\\Desktop\\covdf.csv')\n",
    "lifedf.to_csv(r'C:\\Users\\prove\\OneDrive\\Desktop\\lifedf.csv')\n",
    "lifecovdf.to_csv(r'C:\\Users\\prove\\OneDrive\\Desktop\\livecofdf.csv')"
   ]
  },
  {
   "cell_type": "code",
   "execution_count": 40,
   "metadata": {},
   "outputs": [
    {
     "data": {
      "text/plain": [
       "127"
      ]
     },
     "execution_count": 40,
     "metadata": {},
     "output_type": "execute_result"
    }
   ],
   "source": [
    "len(poldf)"
   ]
  },
  {
   "cell_type": "code",
   "execution_count": 164,
   "metadata": {},
   "outputs": [],
   "source": [
    "#Temporal backfill\n",
    "\n",
    "#lapse date\n",
    "for i in range(len(poldf)):\n",
    "    rnd = np.random.uniform(0,1)\n",
    "    lapDur = assignLabel(rnd,lapseDur,lapseWt)\n",
    "    if lapDur == 99:\n",
    "        lapDur = int(np.log((1-rnd)/(1-sum(lapseWt[0:len(lapseWt)-1])))/np.log(1-ultLapse)+len(lapseWt)-1)\n",
    "    lapDt = rndDate(np.random.uniform(0,1),poldf.issueDate[i][0:4]+'-01-01',poldf.issueDate[i][0:4]+'-12-31')\n",
    "    "
   ]
  },
  {
   "cell_type": "code",
   "execution_count": 298,
   "metadata": {},
   "outputs": [
    {
     "data": {
      "text/plain": [
       "(array([21.,  6., 12.,  7.,  4., 11.,  4.,  9., 10., 16.]),\n",
       " array([ 0. ,  1.1,  2.2,  3.3,  4.4,  5.5,  6.6,  7.7,  8.8,  9.9, 11. ]),\n",
       " <a list of 10 Patch objects>)"
      ]
     },
     "execution_count": 298,
     "metadata": {},
     "output_type": "execute_result"
    },
    {
     "data": {
      "image/png": "[encoded data removed]",
      "text/plain": [
       "<Figure size 432x288 with 1 Axes>"
      ]
     },
     "metadata": {
      "needs_background": "light"
     },
     "output_type": "display_data"
    }
   ],
   "source": [
    "from matplotlib import pyplot as plt\n",
    "plt.hist([x[5:7] for x in poldf.issueDate[:]])"
   ]
  }
 ],
 "metadata": {
  "kernelspec": {
   "display_name": "Python 3",
   "language": "python",
   "name": "python3"
  },
  "language_info": {
   "codemirror_mode": {
    "name": "ipython",
    "version": 3
   },
   "file_extension": ".py",
   "mimetype": "text/x-python",
   "name": "python",
   "nbconvert_exporter": "python",
   "pygments_lexer": "ipython3",
   "version": "3.8.5"
  }
 },
 "nbformat": 4,
 "nbformat_minor": 4
}
