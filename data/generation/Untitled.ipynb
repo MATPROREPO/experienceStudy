{
 "cells": [
  {
   "cell_type": "code",
   "execution_count": 1,
   "id": "checked-alexander",
   "metadata": {},
   "outputs": [],
   "source": [
    "import numpy as np\n",
    "import pandas as pd\n",
    "import datetime"
   ]
  },
  {
   "cell_type": "code",
   "execution_count": 2,
   "id": "average-morrison",
   "metadata": {},
   "outputs": [],
   "source": [
    "np.random.seed(30300101)\n",
    "nLives = 100"
   ]
  },
  {
   "cell_type": "code",
   "execution_count": 3,
   "id": "controversial-experience",
   "metadata": {},
   "outputs": [],
   "source": [
    "#Storage of variables used to define the dataset\n",
    "#Start with policy variables\n",
    "\n",
    "#4 products, to be defined later\n",
    "prods = range(4)\n",
    "prods = [x + 1 for x in prods]\n",
    "prodsWt = [0.5,0.25,0.2,0.05]\n",
    "\n",
    "#Evenly distribute business within issue year confines\n",
    "issYrsStart = 2008\n",
    "issYrs = range(10)\n",
    "issYrs = [x + issYrsStart for x in issYrs]\n",
    "issYrsWt = [1/len(issYrs)] * len(issYrs)\n",
    "\n",
    "#Randomly distribute business amongst n states\n",
    "#Given assignment methodology, possible for multiple states to be picked during the same run\n",
    "nIssSt = 10\n",
    "issSt = range(50)\n",
    "issSt = [x + 1 for x in issSt]\n",
    "issStWt = [0] * len(issSt)\n",
    "st = np.random.randint(low=0,high=len(issSt)-1,size=nIssSt).tolist()\n",
    "rd = np.random.uniform(0,1,nIssSt).tolist()\n",
    "rd = [x/sum(rd) for x in rd]\n",
    "for i in range(len(st)):\n",
    "    issStWt[st[i]] = issStWt[st[i]] + rd[i]"
   ]
  },
  {
   "cell_type": "code",
   "execution_count": 4,
   "id": "arbitrary-independence",
   "metadata": {},
   "outputs": [],
   "source": [
    "#Next to coverage variables\n",
    "\n",
    "#Future state utilize product mapping table to enable/disable coverage riders at a product level\n",
    "#Start with random probability for now and a simple assignment of base/rider types\n",
    "covCnt = [0,1]\n",
    "covCntWt = [0.9,0.1]\n",
    "\n",
    "#Presume all riders are optioned at issue"
   ]
  },
  {
   "cell_type": "code",
   "execution_count": 5,
   "id": "demonstrated-perspective",
   "metadata": {},
   "outputs": [],
   "source": [
    "#Next to person variables\n",
    "\n",
    "#Randomly distribute ages within an issue age band range\n",
    "#Will be used to calculate dates of birth\n",
    "#Currently presume an ALB issue age calculation\n",
    "age = [0,25,35,45,55,65,75,999]\n",
    "ageWt = [0,0.05,0.15,0.25,0.3,0.15,0.1,0]\n",
    "\n",
    "#Two genders within underwriting criteria\n",
    "sex = range(2) \n",
    "sexWt = [0.5,0.5]\n",
    "\n",
    "#Spousal riders\n",
    "#Current code presumes no joint life policies, and that lives on coverages match back to base\n",
    "#Future state may contemplate assigning a different insured on rider records, or joint life policies\n",
    "lives = [0,1,2]\n",
    "livesWt = [0,1,0]\n",
    "\n",
    "#Multiple issues\n",
    "multiplePol = [0,1,2,3,4,5]\n",
    "multiplePolWt = [0,0.8,0.1,0.05,0.025,0.025]"
   ]
  },
  {
   "cell_type": "code",
   "execution_count": 6,
   "id": "social-theater",
   "metadata": {},
   "outputs": [],
   "source": [
    "#Finally, temporal statistics\n",
    "\n",
    "#Probability of lapse\n",
    "lapseDur = [1,2,3,99]\n",
    "lapseWt = [0.2,0.1,0.05,0.65]\n",
    "ultLapse = 0.05\n",
    "\n",
    "#Probability of death\n",
    "#Modeled as an exponential\n",
    "#Import SOA mortality table and lookup?"
   ]
  },
  {
   "cell_type": "code",
   "execution_count": 7,
   "id": "square-porter",
   "metadata": {},
   "outputs": [],
   "source": [
    "#UDFs\n",
    "def assignLabel(rnd, labelArray,weightArray):\n",
    "    c = 0\n",
    "    for i in range(len(weightArray)):\n",
    "        c = c + weightArray[i]\n",
    "        if c > rnd:\n",
    "            x = labelArray[i]\n",
    "            break\n",
    "    return x\n",
    "\n",
    "def rndDate(rnd,start,end):\n",
    "    fmt = '%Y-%m-%d'\n",
    "    #st = datetime.strptime(start,fmt).timestamp()\n",
    "    #ed = datetime.strptime(end,fmt).timestamp()\n",
    "    st = datetime.datetime.strptime(start,fmt)\n",
    "    ed = datetime.datetime.strptime(end,fmt)\n",
    "    dt = st + rnd * (ed - st)\n",
    "    #dt = datetime.utcfromtimestamp(dt).strftime(fmt)\n",
    "    dt = datetime.datetime.strftime(dt,fmt)\n",
    "    return dt\n",
    "\n",
    "def rndGammaDate(start,shape,scale):\n",
    "    fmt = '%Y-%m-%d'\n",
    "    st = datetime.datetime.strptime(start,fmt)\n",
    "    dt = st + datetime.timedelta(days = np.random.gamma(shape,scale) * 365)\n",
    "    dt = datetime.datetime.strftime(dt,fmt)\n",
    "    return dt"
   ]
  },
  {
   "cell_type": "code",
   "execution_count": null,
   "id": "violent-insulation",
   "metadata": {},
   "outputs": [],
   "source": [
    "#Person creation\n",
    "lifedf = pd.DataFrame(columns=['lifeId','name','productId','issueDate','issueState'])\n",
    "for i in range(nPols):\n",
    "    polId = i + 1\n",
    "    polNo = hex(hash(np.random.uniform(0,1)))[0:10]\n",
    "    prodId = assignLabel(np.random.uniform(0,1),prods,prodsWt)\n",
    "    issueYr = assignLabel(np.random.uniform(0,1),issYrs,issYrsWt)\n",
    "    issueDt = rndDate(np.random.uniform(0,1),str(issueYr)+'-01-01',str(issueYr)+'-12-31')\n",
    "    issStId = assignLabel(np.random.uniform(0,1),issSt,issStWt)\n",
    "    poldf.loc[i] = [polId,polNo,prodId,issueDt,issStId]"
   ]
  }
 ],
 "metadata": {
  "kernelspec": {
   "display_name": "Python 3",
   "language": "python",
   "name": "python3"
  },
  "language_info": {
   "codemirror_mode": {
    "name": "ipython",
    "version": 3
   },
   "file_extension": ".py",
   "mimetype": "text/x-python",
   "name": "python",
   "nbconvert_exporter": "python",
   "pygments_lexer": "ipython3",
   "version": "3.8.5"
  }
 },
 "nbformat": 4,
 "nbformat_minor": 5
}
