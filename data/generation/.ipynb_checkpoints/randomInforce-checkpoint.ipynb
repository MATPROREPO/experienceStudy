{
 "cells": [
  {
   "cell_type": "code",
   "execution_count": 1,
   "metadata": {},
   "outputs": [],
   "source": [
    "import numpy as np\n",
    "import pandas as pd\n",
    "from datetime import datetime"
   ]
  },
  {
   "cell_type": "code",
   "execution_count": 2,
   "metadata": {},
   "outputs": [],
   "source": [
    "np.random.seed(30300101)"
   ]
  },
  {
   "cell_type": "code",
   "execution_count": 3,
   "metadata": {},
   "outputs": [],
   "source": [
    "#Storage of variables used to define the dataset\n",
    "#Start with policy variables\n",
    "\n",
    "#4 products, to be defined later\n",
    "prods = range(4)\n",
    "prods = [x + 1 for x in prods]\n",
    "prodsWt = [0.5,0.25,0.2,0.05]\n",
    "\n",
    "#Evenly distribute business within issue year confines\n",
    "issYrsStart = 2008\n",
    "issYrs = range(10)\n",
    "issYrs = [x + issYrsStart for x in issYrs]\n",
    "issYrsWt = [1/len(issYrs)] * len(issYrs)\n",
    "\n",
    "#Randomly distribute business amongst n states\n",
    "#Given assignment methodology, possible for multiple states to be picked during the same run\n",
    "nIssSt = 10\n",
    "issSt = range(50)\n",
    "issSt = [x + 1 for x in issSt]\n",
    "issStWt = [0] * len(issSt)\n",
    "st = np.random.randint(low=0,high=len(issSt)-1,size=nIssSt).tolist()\n",
    "rd = np.random.uniform(0,1,nIssSt).tolist()\n",
    "rd = [x/sum(rd) for x in rd]\n",
    "for i in range(len(st)):\n",
    "    issStWt[st[i]] = issStWt[st[i]] + rd[i]"
   ]
  },
  {
   "cell_type": "code",
   "execution_count": 4,
   "metadata": {},
   "outputs": [],
   "source": [
    "#Next to coverage variables\n",
    "\n",
    "#Future state utilize product mapping table to enable/disable coverage riders at a product level\n",
    "#Start with random probability for now and a simple assignment of base/rider types\n",
    "covCnt = [0,1]\n",
    "covCntWt = [0.9,0.1]\n",
    "\n",
    "#Presume all riders are optioned at issue"
   ]
  },
  {
   "cell_type": "code",
   "execution_count": 41,
   "metadata": {},
   "outputs": [],
   "source": [
    "#Next to person variables\n",
    "\n",
    "#Randomly distribute ages within an issue age band range\n",
    "#Will be used to calculate dates of birth\n",
    "#Currently presume an ALB issue age calculation\n",
    "age = [0,25,35,45,55,65,75,999]\n",
    "ageWt = [0,0.05,0.15,0.25,0.3,0.15,0.1,0]\n",
    "\n",
    "#Two genders within underwriting criteria\n",
    "sex = range(2) \n",
    "sexWt = [0.5,0.5]\n",
    "\n",
    "#Spousal riders\n",
    "#Current code presumes no joint life policies, and that lives on coverages match back to base\n",
    "#Future state may contemplate assigning a different insured on rider records, or joint life policies\n",
    "lives = [0,1,2]\n",
    "livesWt = [0,1,0]\n",
    "\n",
    "#Multiple issues\n",
    "multiplePol = [0,1,2,3,4,5]\n",
    "multiplePolWt = [0,0.8,0.1,0.05,0.025,0.025]"
   ]
  },
  {
   "cell_type": "code",
   "execution_count": 6,
   "metadata": {},
   "outputs": [],
   "source": [
    "#Finally, temporal statistics\n",
    "\n",
    "#Probability of surrender\n",
    "lapseDur = [1,2,3,99]\n",
    "lapseWt = [0.2,0.1,0.05,0.65]\n",
    "ultLapse = 0.05"
   ]
  },
  {
   "cell_type": "code",
   "execution_count": 97,
   "metadata": {},
   "outputs": [],
   "source": [
    "#UDFs\n",
    "def assignLabel(rnd, labelArray,weightArray):\n",
    "    c = 0\n",
    "    for i in range(len(weightArray)):\n",
    "        c = c + weightArray[i]\n",
    "        if c > rnd:\n",
    "            x = labelArray[i]\n",
    "            break\n",
    "    return x\n",
    "\n",
    "def rndDate(rnd,start,end):\n",
    "    fmt = '%Y-%m-%d'\n",
    "    #st = datetime.strptime(start,fmt).timestamp()\n",
    "    #ed = datetime.strptime(end,fmt).timestamp()\n",
    "    st = datetime.strptime(start,fmt).timestamp()\n",
    "    ed = datetime.strptime(end,fmt).timestamp()\n",
    "    dt = st + rnd * (ed - st)\n",
    "    dt = datetime.utcfromtimestamp(dt).strftime(fmt)\n",
    "    return dt"
   ]
  },
  {
   "cell_type": "code",
   "execution_count": 98,
   "metadata": {},
   "outputs": [],
   "source": [
    "#Policy creation\n",
    "nPols = 100\n",
    "poldf = pd.DataFrame(columns=['policyId','policyNumber','productId','issueDate','issueState'])\n",
    "for i in range(nPols):\n",
    "    polId = i + 1\n",
    "    polNo = hex(hash(np.random.uniform(0,1)))[0:10]\n",
    "    prodId = assignLabel(np.random.uniform(0,1),prods,prodsWt)\n",
    "    issueYr = assignLabel(np.random.uniform(0,1),issYrs,issYrsWt)\n",
    "    issueDt = rndDate(np.random.uniform(0,1),str(issueYr)+'-01-01',str(issueYr)+'-12-31')\n",
    "    issStId = assignLabel(np.random.uniform(0,1),issSt,issStWt)\n",
    "    poldf.loc[i] = [polId,polNo,prodId,issueDt,issStId]"
   ]
  },
  {
   "cell_type": "code",
   "execution_count": 80,
   "metadata": {},
   "outputs": [],
   "source": [
    "#Coverage creation\n",
    "covdf = pd.DataFrame(columns=['coverageId','policyId','coverageNo','coverageTypeId','productId','issueDate'])\n",
    "covIdx = 0\n",
    "for i in range(len(poldf)):\n",
    "    for j in range(assignLabel(np.random.uniform(0,1),covCnt,covCntWt)+1):\n",
    "        covIdx = covIdx + 1\n",
    "        polId = i + 1\n",
    "        covNo = hex(hash(np.random.uniform(0,1)))[0:10]\n",
    "        prodId = poldf.productId[i] * 10 + j\n",
    "        if j == 0:\n",
    "            covType = 1\n",
    "            prodId = poldf.productId[i] * 10 + j\n",
    "            issueDt = poldf.issueDate[i]\n",
    "        else:\n",
    "            covType = 2\n",
    "            prodId = poldf.productId[i] * 10 + j\n",
    "            issueDt = poldf.issueDate[i]\n",
    "        covdf.loc[covIdx] = [covIdx,polId,covNo,covType,prodId,issueDt]"
   ]
  },
  {
   "cell_type": "code",
   "execution_count": 109,
   "metadata": {},
   "outputs": [
    {
     "name": "stdout",
     "output_type": "stream",
     "text": [
      "1979-05-12\n"
     ]
    },
    {
     "ename": "ValueError",
     "evalue": "cannot set a row with mismatched columns",
     "output_type": "error",
     "traceback": [
      "\u001b[1;31m---------------------------------------------------------------------------\u001b[0m",
      "\u001b[1;31mValueError\u001b[0m                                Traceback (most recent call last)",
      "\u001b[1;32m<ipython-input-109-3abb26669688>\u001b[0m in \u001b[0;36m<module>\u001b[1;34m\u001b[0m\n\u001b[0;32m     25\u001b[0m     \u001b[1;31m#Need to modify the rndDate UDF to work with all dates (or, at least, dates > 1900)\u001b[0m\u001b[1;33m\u001b[0m\u001b[1;33m\u001b[0m\u001b[1;33m\u001b[0m\u001b[0m\n\u001b[0;32m     26\u001b[0m     \u001b[0mbirthDate\u001b[0m \u001b[1;33m=\u001b[0m \u001b[0mrndDate\u001b[0m\u001b[1;33m(\u001b[0m\u001b[0mnp\u001b[0m\u001b[1;33m.\u001b[0m\u001b[0mrandom\u001b[0m\u001b[1;33m.\u001b[0m\u001b[0muniform\u001b[0m\u001b[1;33m(\u001b[0m\u001b[1;36m0\u001b[0m\u001b[1;33m,\u001b[0m\u001b[1;36m1\u001b[0m\u001b[1;33m)\u001b[0m\u001b[1;33m,\u001b[0m\u001b[0mstr\u001b[0m\u001b[1;33m(\u001b[0m\u001b[0mageYr\u001b[0m\u001b[1;33m)\u001b[0m \u001b[1;33m+\u001b[0m \u001b[0mstrDt\u001b[0m\u001b[1;33m,\u001b[0m\u001b[0mstr\u001b[0m\u001b[1;33m(\u001b[0m\u001b[0mageYr\u001b[0m \u001b[1;33m+\u001b[0m \u001b[1;36m1\u001b[0m\u001b[1;33m)\u001b[0m \u001b[1;33m+\u001b[0m \u001b[0mstrDt\u001b[0m\u001b[1;33m)\u001b[0m\u001b[1;33m\u001b[0m\u001b[1;33m\u001b[0m\u001b[0m\n\u001b[1;32m---> 27\u001b[1;33m     \u001b[0mlifedf\u001b[0m\u001b[1;33m.\u001b[0m\u001b[0mloc\u001b[0m\u001b[1;33m[\u001b[0m\u001b[0mlifeIdx\u001b[0m\u001b[1;33m]\u001b[0m \u001b[1;33m=\u001b[0m \u001b[1;33m[\u001b[0m\u001b[0mlifeIdx\u001b[0m\u001b[1;33m,\u001b[0m\u001b[0msexId\u001b[0m\u001b[1;33m,\u001b[0m\u001b[0mbirthDate\u001b[0m\u001b[1;33m]\u001b[0m\u001b[1;33m\u001b[0m\u001b[1;33m\u001b[0m\u001b[0m\n\u001b[0m\u001b[0;32m     28\u001b[0m \u001b[1;31m#Need to contemplate issue age in terms of issue date, requires linkage back to originating issue\u001b[0m\u001b[1;33m\u001b[0m\u001b[1;33m\u001b[0m\u001b[1;33m\u001b[0m\u001b[0m\n\u001b[0;32m     29\u001b[0m \u001b[1;31m#Need to contemplate single insured owning multiple policies; may ultimately skew issue age histogram\u001b[0m\u001b[1;33m\u001b[0m\u001b[1;33m\u001b[0m\u001b[1;33m\u001b[0m\u001b[0m\n",
      "\u001b[1;32mC:\\ProgramData\\Anaconda3\\lib\\site-packages\\pandas\\core\\indexing.py\u001b[0m in \u001b[0;36m__setitem__\u001b[1;34m(self, key, value)\u001b[0m\n\u001b[0;32m    188\u001b[0m             \u001b[0mkey\u001b[0m \u001b[1;33m=\u001b[0m \u001b[0mcom\u001b[0m\u001b[1;33m.\u001b[0m\u001b[0mapply_if_callable\u001b[0m\u001b[1;33m(\u001b[0m\u001b[0mkey\u001b[0m\u001b[1;33m,\u001b[0m \u001b[0mself\u001b[0m\u001b[1;33m.\u001b[0m\u001b[0mobj\u001b[0m\u001b[1;33m)\u001b[0m\u001b[1;33m\u001b[0m\u001b[1;33m\u001b[0m\u001b[0m\n\u001b[0;32m    189\u001b[0m         \u001b[0mindexer\u001b[0m \u001b[1;33m=\u001b[0m \u001b[0mself\u001b[0m\u001b[1;33m.\u001b[0m\u001b[0m_get_setitem_indexer\u001b[0m\u001b[1;33m(\u001b[0m\u001b[0mkey\u001b[0m\u001b[1;33m)\u001b[0m\u001b[1;33m\u001b[0m\u001b[1;33m\u001b[0m\u001b[0m\n\u001b[1;32m--> 190\u001b[1;33m         \u001b[0mself\u001b[0m\u001b[1;33m.\u001b[0m\u001b[0m_setitem_with_indexer\u001b[0m\u001b[1;33m(\u001b[0m\u001b[0mindexer\u001b[0m\u001b[1;33m,\u001b[0m \u001b[0mvalue\u001b[0m\u001b[1;33m)\u001b[0m\u001b[1;33m\u001b[0m\u001b[1;33m\u001b[0m\u001b[0m\n\u001b[0m\u001b[0;32m    191\u001b[0m \u001b[1;33m\u001b[0m\u001b[0m\n\u001b[0;32m    192\u001b[0m     \u001b[1;32mdef\u001b[0m \u001b[0m_validate_key\u001b[0m\u001b[1;33m(\u001b[0m\u001b[0mself\u001b[0m\u001b[1;33m,\u001b[0m \u001b[0mkey\u001b[0m\u001b[1;33m,\u001b[0m \u001b[0maxis\u001b[0m\u001b[1;33m)\u001b[0m\u001b[1;33m:\u001b[0m\u001b[1;33m\u001b[0m\u001b[1;33m\u001b[0m\u001b[0m\n",
      "\u001b[1;32mC:\\ProgramData\\Anaconda3\\lib\\site-packages\\pandas\\core\\indexing.py\u001b[0m in \u001b[0;36m_setitem_with_indexer\u001b[1;34m(self, indexer, value)\u001b[0m\n\u001b[0;32m    443\u001b[0m                         \u001b[1;32mif\u001b[0m \u001b[0mis_list_like_indexer\u001b[0m\u001b[1;33m(\u001b[0m\u001b[0mvalue\u001b[0m\u001b[1;33m)\u001b[0m\u001b[1;33m:\u001b[0m\u001b[1;33m\u001b[0m\u001b[1;33m\u001b[0m\u001b[0m\n\u001b[0;32m    444\u001b[0m                             \u001b[1;32mif\u001b[0m \u001b[0mlen\u001b[0m\u001b[1;33m(\u001b[0m\u001b[0mvalue\u001b[0m\u001b[1;33m)\u001b[0m \u001b[1;33m!=\u001b[0m \u001b[0mlen\u001b[0m\u001b[1;33m(\u001b[0m\u001b[0mself\u001b[0m\u001b[1;33m.\u001b[0m\u001b[0mobj\u001b[0m\u001b[1;33m.\u001b[0m\u001b[0mcolumns\u001b[0m\u001b[1;33m)\u001b[0m\u001b[1;33m:\u001b[0m\u001b[1;33m\u001b[0m\u001b[1;33m\u001b[0m\u001b[0m\n\u001b[1;32m--> 445\u001b[1;33m                                 raise ValueError(\"cannot set a row with \"\n\u001b[0m\u001b[0;32m    446\u001b[0m                                                  \"mismatched columns\")\n\u001b[0;32m    447\u001b[0m \u001b[1;33m\u001b[0m\u001b[0m\n",
      "\u001b[1;31mValueError\u001b[0m: cannot set a row with mismatched columns"
     ]
    }
   ],
   "source": [
    "#Lives creation\n",
    "unassignedPol = [1] * len(poldf)\n",
    "lifedf = pd.DataFrame(columns=['lifeId','sexId','birthDate','deathDate'])\n",
    "lifepoldf = pd.DataFrame(columns=['policyId','lifeId'])\n",
    "lifeIdx = 0\n",
    "\n",
    "\n",
    "while len(unassignedPol) > 0:\n",
    "    lifeIdx = lifeIdx + 1\n",
    "    nPol = assignLabel(np.random.uniform(0,1),multiplePol,multiplePolWt)\n",
    "    for i in range(nPol):\n",
    "        rndIdx = np.random.randint(0,len(unassignedPol))\n",
    "        lifepoldf.loc[len(lifepoldf)] = [lifeIdx,unassignedPol[rndIdx]]\n",
    "        unassignedPol[rndIdx]\n",
    "    sexId = assignLabel(np.random.uniform(0,1),sex,sexWt)\n",
    "    ageVal = assignLabel(np.random.uniform(0,1),age,ageWt)\n",
    "    issueDt = poldf.issueDate[lifepoldf.policyId[len(lifepoldf) - 1]]\n",
    "    ageYr = int(str(issueDt)[0:4]) - int(ageVal)\n",
    "    strDt = str(issueDt)[4:10]\n",
    "    if strDt == '-02-29':\n",
    "        strDt = '-03-01'\n",
    "    print(str(ageYr) + strDt)\n",
    "    \n",
    "    #Does timestamp not work with older dates?  It does not...  earliest possible date is 1970-01-01\n",
    "    #Need to modify the rndDate UDF to work with all dates (or, at least, dates > 1900)\n",
    "    \n",
    "    birthDate = rndDate(np.random.uniform(0,1),str(ageYr) + strDt,str(ageYr + 1) + strDt)\n",
    "    lifedf.loc[lifeIdx] = [lifeIdx,sexId,birthDate]\n",
    "#Need to contemplate issue age in terms of issue date, requires linkage back to originating issue\n",
    "#Need to contemplate single insured owning multiple policies; may ultimately skew issue age histogram"
   ]
  },
  {
   "cell_type": "code",
   "execution_count": 60,
   "metadata": {},
   "outputs": [],
   "source": [
    "#Temporal backfill\n",
    "\n",
    "#lapse date\n",
    "for i in range(len(poldf)):\n",
    "    rnd = np.random.uniform(0,1)\n",
    "    lapDur = assignLabel(rnd,lapseDur,lapseWt)\n",
    "    if lapDur == 99:\n",
    "        lapDur = int(np.log((1-rnd)/(1-sum(lapseWt[0:len(lapseWt)-1])))/np.log(1-ultLapse)+len(lapseWt)-1)\n",
    "    lapDt = rndDate(np.random.uniform(0,1),poldf.issueDate[i][0:4]+'-01-01',poldf.issueDate[i][0:4]+'-12-31')\n",
    "    "
   ]
  },
  {
   "cell_type": "code",
   "execution_count": 64,
   "metadata": {},
   "outputs": [
    {
     "data": {
      "text/plain": [
       "(array([17., 11., 10.,  7.,  6.,  9., 13.,  5., 14.,  8.]),\n",
       " array([ 0. ,  1.1,  2.2,  3.3,  4.4,  5.5,  6.6,  7.7,  8.8,  9.9, 11. ]),\n",
       " <a list of 10 Patch objects>)"
      ]
     },
     "execution_count": 64,
     "metadata": {},
     "output_type": "execute_result"
    },
    {
     "data": {
      "image/png": "[encoded data removed]",
      "text/plain": [
       "<Figure size 432x288 with 1 Axes>"
      ]
     },
     "metadata": {
      "needs_background": "light"
     },
     "output_type": "display_data"
    }
   ],
   "source": [
    "from matplotlib import pyplot as plt\n",
    "plt.hist([x[5:7] for x in poldf.issueDate[:]])"
   ]
  },
  {
   "cell_type": "code",
   "execution_count": 222,
   "metadata": {},
   "outputs": [
    {
     "data": {
      "text/plain": [
       "'2019-01-01'"
      ]
     },
     "execution_count": 222,
     "metadata": {},
     "output_type": "execute_result"
    }
   ],
   "source": [
    "rndDate(0.9999999999999999999,'2018-01-01','2019-01-01')"
   ]
  },
  {
   "cell_type": "code",
   "execution_count": 3,
   "metadata": {},
   "outputs": [
    {
     "ename": "NameError",
     "evalue": "name 'assignLabel' is not defined",
     "output_type": "error",
     "traceback": [
      "\u001b[1;31m---------------------------------------------------------------------------\u001b[0m",
      "\u001b[1;31mNameError\u001b[0m                                 Traceback (most recent call last)",
      "\u001b[1;32m<ipython-input-3-cdb20eb1b986>\u001b[0m in \u001b[0;36m<module>\u001b[1;34m\u001b[0m\n\u001b[1;32m----> 1\u001b[1;33m \u001b[0massignLabel\u001b[0m\u001b[1;33m(\u001b[0m\u001b[0mnp\u001b[0m\u001b[1;33m.\u001b[0m\u001b[0mrandom\u001b[0m\u001b[1;33m.\u001b[0m\u001b[0muniform\u001b[0m\u001b[1;33m(\u001b[0m\u001b[1;36m0\u001b[0m\u001b[1;33m,\u001b[0m\u001b[1;36m1\u001b[0m\u001b[1;33m)\u001b[0m\u001b[1;33m,\u001b[0m\u001b[0mcovCnt\u001b[0m\u001b[1;33m,\u001b[0m\u001b[0mcovCntWt\u001b[0m\u001b[1;33m)\u001b[0m\u001b[1;33m\u001b[0m\u001b[1;33m\u001b[0m\u001b[0m\n\u001b[0m",
      "\u001b[1;31mNameError\u001b[0m: name 'assignLabel' is not defined"
     ]
    }
   ],
   "source": [
    "assignLabel(np.random.uniform(0,1),covCnt,covCntWt)"
   ]
  },
  {
   "cell_type": "code",
   "execution_count": 304,
   "metadata": {},
   "outputs": [
    {
     "data": {
      "text/plain": [
       "\u001b[1;31mDocstring:\u001b[0m\n",
       "mktime(tuple) -> floating point number\n",
       "\n",
       "Convert a time tuple in local time to seconds since the Epoch.\n",
       "Note that mktime(gmtime(0)) will not generally return zero for most\n",
       "time zones; instead the returned value will either be equal to that\n",
       "of the timezone or altzone attributes on the time module.\n",
       "\u001b[1;31mType:\u001b[0m      builtin_function_or_method\n"
      ]
     },
     "metadata": {},
     "output_type": "display_data"
    }
   ],
   "source": [
    "time.mktime?"
   ]
  },
  {
   "cell_type": "code",
   "execution_count": null,
   "metadata": {},
   "outputs": [],
   "source": []
  }
 ],
 "metadata": {
  "kernelspec": {
   "display_name": "Python 3",
   "language": "python",
   "name": "python3"
  },
  "language_info": {
   "codemirror_mode": {
    "name": "ipython",
    "version": 3
   },
   "file_extension": ".py",
   "mimetype": "text/x-python",
   "name": "python",
   "nbconvert_exporter": "python",
   "pygments_lexer": "ipython3",
   "version": "3.7.3"
  }
 },
 "nbformat": 4,
 "nbformat_minor": 4
}
